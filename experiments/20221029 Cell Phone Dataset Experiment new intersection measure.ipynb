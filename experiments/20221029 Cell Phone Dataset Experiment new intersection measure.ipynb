{
 "cells": [
  {
   "cell_type": "markdown",
   "id": "68db98ef",
   "metadata": {},
   "source": [
    "# Cell Phone Dataset Experiment\n",
    "This notebook is aimed at testing the capabilities of the class differentiation measure for the case of a more general dataset. In this case we are going to analyse the case of a Cell Phone dataset classification problem. From the results obtained in the previous experiment, a new approach is intended. In this case, the intersection of the representations of two sets is measured in a different way."
   ]
  },
  {
   "cell_type": "markdown",
   "id": "dd67f402",
   "metadata": {},
   "source": [
    "### Imports"
   ]
  },
  {
   "cell_type": "code",
   "execution_count": 2,
   "id": "2e8d05b0",
   "metadata": {},
   "outputs": [],
   "source": [
    "import numpy as np\n",
    "import matplotlib.pyplot as plt\n",
    "from sklearn.metrics import confusion_matrix\n",
    "import pandas as pd\n",
    "#import tensorflow as tf\n",
    "#from tensorflow import keras\n",
    "import gc\n",
    "from pathlib import Path\n",
    "from sklearn.neural_network import MLPClassifier\n",
    "from sklearn.ensemble import GradientBoostingClassifier\n",
    "from sklearn.preprocessing import MinMaxScaler, StandardScaler\n",
    "\n",
    "\n",
    "\n",
    "        "
   ]
  },
  {
   "cell_type": "code",
   "execution_count": 3,
   "id": "6c3ee0c8",
   "metadata": {},
   "outputs": [],
   "source": [
    "# Magics first (server issues)\n",
    "\n",
    "# if you want static matplotlib plot :\n",
    "#%matplotlib inline \n",
    "# Do below if you want interactive matplotlib plot :\n",
    "%matplotlib notebook \n",
    "\n",
    "# https://ipython.org/ipython-doc/dev/config/extensions/autoreload.html\n",
    "%load_ext autoreload\n",
    "%autoreload 2\n",
    "#Customisations\n",
    "\n",
    "\n",
    "#Any tweaks that normally go in .matplotlibrc, etc. should explicity go here\n",
    "plt.rcParams['figure.figsize'] = (7,5)\n",
    "%config InlineBackend.figure_format='retina'"
   ]
  },
  {
   "cell_type": "markdown",
   "id": "c060eb0b",
   "metadata": {},
   "source": [
    "### Functions"
   ]
  },
  {
   "cell_type": "code",
   "execution_count": 4,
   "id": "c3e32b71",
   "metadata": {},
   "outputs": [],
   "source": [
    "def distance_to_point(point,array):\n",
    "    dist = []\n",
    "    for i in range(array.shape[0]):\n",
    "        d = np.linalg.norm(point-array[i])\n",
    "        dist.append(d)\n",
    "    return np.array(dist)\n",
    "\n",
    "def distance_factor(sample,mode = 0):\n",
    "    \"\"\"\n",
    "    This function computes the relative contrast provided by the paper  \"ON the suprising behaviour\". \n",
    "    In this case, the relative constras will be computed with respect the mean.\n",
    "    \n",
    "    Parameters:\n",
    "    ----------\n",
    "    sample: Dataset from which the relative factor must be computed.\n",
    "    mode: working mode. Default:0\n",
    "    \n",
    "    Return\n",
    "    ------\n",
    "    rt : Relative contrast.\n",
    "    \"\"\"\n",
    "    if mode == 0:\n",
    "        dt = centroid_distance(sample)\n",
    "        m = np.min(dt)\n",
    "        M = np.max(dt)\n",
    "        rt = (M-m)/m\n",
    "        return rt\n",
    "    \n",
    "\n",
    "def mahalanobis(array,observations):\n",
    "    \"\"\"\n",
    "    This function computes the Mahalanobis \"Norm\" of a provided vector array and a provided set of\n",
    "     observations\n",
    "    \n",
    "    Parameters\n",
    "    ----------\n",
    "    array: Provided array. This distance will provide a measure of how much this vector belongs to\n",
    "    the provided set of vectors.\n",
    "    observations: Set of previous observations.\n",
    "    \n",
    "    Return\n",
    "    ------\n",
    "    Mahalanobis distance to the provided set.\n",
    "    \n",
    "    \"\"\"\n",
    "    observations = np.transpose(observations)\n",
    "    #print(f'Observations shape: {observations.shape}')\n",
    "    mean = np.mean(observations,axis = 1)\n",
    "    #print(f'Mean  {mean}')\n",
    "    cov = np.cov(observations)\n",
    "    inv_cov = np.linalg.inv(cov)\n",
    "    #print(f'Cov: {cov}')\n",
    "    v = array - mean\n",
    "    distance = np.sqrt(np.matmul(np.matmul(v,inv_cov),v))\n",
    "    return distance\n",
    "\n",
    "def d_mahalanobis_distance(sample):\n",
    "    \"\"\"\n",
    "    This function computes the mahalanobis distance of each single point to itself\n",
    "    \n",
    "    Parameters\n",
    "    ----------\n",
    "    sample. samples or dataset used to compute the mahalanobis distance.\n",
    "    \n",
    "    Return\n",
    "    ------\n",
    "    d_v: distance vector\n",
    "    \"\"\"\n",
    "    d_v = []\n",
    "    for i in sample:\n",
    "        d_v.append(mahalanobis(i,sample))\n",
    "    d_v = np.array(d_v)\n",
    "    return d_v\n",
    "\n",
    "def centroid_distance(sample):\n",
    "    \"\"\"\n",
    "    This function computes the distance from the mass center of a given set to each other point\n",
    "    \n",
    "    Parameter\n",
    "    ---------\n",
    "    sample: sample of elements on which the method will be applied.\n",
    "    \n",
    "    Return\n",
    "    ------\n",
    "    d_v: distance vector\n",
    "    \"\"\"\n",
    "    m = np.mean(sample,axis=0)\n",
    "    d_v=distance_to_point(m,sample)\n",
    "    return d_v\n",
    "\n",
    "def density_funct_estimation(sample,density_factor=100):\n",
    "    \"\"\"\n",
    "    This function computes the density estimation associated to a category in a\n",
    "    dataset.\n",
    "    \"\"\"\n",
    "    q = []\n",
    "    for i in range(1,density_factor):\n",
    "        q.append(np.quantile(sample,i/density_factor))\n",
    "    q = np.array(q)\n",
    "    q = np.concatenate((np.array([np.min(sample)]),q,np.array([np.max(sample)])))\n",
    "    dq = np.diff(q)\n",
    "    h = (1/density_factor)/dq\n",
    "\n",
    "    return q[1:],h\n",
    "\n",
    "def quantile_entropy(density_vector):\n",
    "    \"\"\"\n",
    "    This function computes the entropy associated to a simple density function made out of constant values\n",
    "    obtained for equally spaciated quantiles.\n",
    "    \n",
    "    Parameters\n",
    "    ----------\n",
    "    density_vector: array. Vector containing the densities obtained for a specific sample.\n",
    "    \n",
    "    Return\n",
    "    ------\n",
    "    qe: Scalar value associated to the entropy of the sample.\n",
    "    \n",
    "    \"\"\"\n",
    "    c = 1/density_vector.shape[0]\n",
    "    qe = (-c)*np.sum(np.log(density_vector))\n",
    "    return qe\n",
    "def n_sphere_vol(r,dim = 2):\n",
    "    if dim%2 == 0:\n",
    "        k = dim/2\n",
    "        volume = ((np.pi**k)/np.math.factorial(k))*r**dim\n",
    "    elif dim%2 == 1:\n",
    "        k = dim//2\n",
    "        volume = ((2*np.math.factorial(k)*(4*np.pi)**k)/(np.math.factorial(dim)))*r**dim     \n",
    "    return volume\n",
    "\n",
    "def mutual_density(target_random_sample, non_target_random_sample,non_target_quantiles ):\n",
    "    \"\"\"\n",
    "    This function computes the empirical probability measure of the intersection of two \n",
    "    categories within a dataset.\n",
    "    \n",
    "    Params\n",
    "    --------\n",
    "    target_random_sample: np.array. Samples that belongs to the target category. The\n",
    "                          probability measure will be computed with respect the empirical\n",
    "                          probability distribution associated to this category.\n",
    "    non_target_random_sample: np.array. Samples that belong to some other category. If \n",
    "                          these two categories are not disjoint then the intersection will\n",
    "                          be a measurable set and its measure can be computed with respect\n",
    "                          the different probability measures.\n",
    "    non_target_quantiles: np.array. Array that contains the quantiles of distances with respect\n",
    "                          the non_target_random_sample.\n",
    "                          \n",
    "    Return\n",
    "    -------\n",
    "    m: float. Measure of the intersection of the two categories with respect the empirical prob\n",
    "              bability measure defined for the target_random_sample-\n",
    "    \"\"\"\n",
    "    \n",
    "    r = non_target_quantiles[-1]\n",
    "    c2 = np.mean(non_target_random_sample,axis=0)\n",
    "    distances_to_c2 = distance_to_point(point = c2,array = target_random_sample)\n",
    "    categories_intersection = distances_to_c2[np.where(distances_to_c2<=r)]\n",
    "    m = categories_intersection.shape[0]/target_random_sample.shape[0]\n",
    "    return m\n",
    "\n",
    "def intersection_divergence_entropy(dataset_1,dataset_2):\n",
    "    \"\"\"\n",
    "    Test\n",
    "    \"\"\"\n",
    "    distances1 = centroid_distance(dataset_1)\n",
    "    distances2 = centroid_distance(dataset_2)\n",
    "    q1,h1 = density_funct_estimation(distances1)\n",
    "    q2,h2 = density_funct_estimation(distances2)\n",
    "    m1 = mutual_density(dataset_1,dataset_2,q2)\n",
    "    m2 = mutual_density(dataset_2,dataset_1,q1)\n",
    "    i_d_e = m1*np.log(m1/m2)\n",
    "    return i_d_e\n",
    "\n",
    "def mutual_density_divergence(target_category, category_list):\n",
    "    \"\"\"\n",
    "    This function computes a coefficient associated to the measure of\n",
    "    the intersections of a measurable set with respect someother measurable sets \n",
    "    for a set of probability measures. This coefficient intends to provide insights \n",
    "    of the average 'size'of these intersections and, in that way, how distinguishable\n",
    "    is a set from others.\n",
    "    \n",
    "    Parameters\n",
    "    -----------\n",
    "    target_category: array. Dataset associated to the target category for which the coe-\n",
    "                     fficient will be computed.\n",
    "    category_list: list of arrays. This list must contain all datasets associated to the \n",
    "              different categories  in a classification problem.\n",
    "    mode: int. Used mean method. Default:0 Arithmetic mean. 1, geometric mean.\n",
    "    \n",
    "    Return\n",
    "    -------\n",
    "    phi: float. Coefficient associated to the target category.\n",
    "    \n",
    "    \"\"\"\n",
    "\n",
    "    relative_measures = []\n",
    "    for category in category_list:\n",
    "        d = centroid_distance(category)\n",
    "        q,h = density_funct_estimation(d)\n",
    "        m=mutual_density(target_category,category,q)\n",
    "        relative_measures.append(m)\n",
    "    relative_measures = np.array(relative_measures)\n",
    "    phi = np.mean(np.log(1/(1-relative_measures)))\n",
    "    return phi, relative_measures\n",
    "\n",
    "def dataset_density_function_estimation(dataset):\n",
    "    d = centroid_distance(dataset)\n",
    "    q,h = density_funct_estimation(d)\n",
    "    return q,h\n",
    "\n",
    "def dataset_quantile_entropy(dataset):\n",
    "    q,h = dataset_density_function_estimation(dataset)\n",
    "    e = quantile_entropy(h)\n",
    "    return e\n",
    "def mean_categorical_entropy(category_list):\n",
    "    \"\"\"\n",
    "    This function computes the mean categorical entropy defined for n categories in\n",
    "    a classification problem as (phi1*h1+...+phin*hn)/n\n",
    "    \n",
    "    Parameters\n",
    "    -----------\n",
    "    \n",
    "    category_list:list of arrays. This list must contain all datasets associated to the \n",
    "              different categories  in a classification problem.\n",
    "    \n",
    "    Return\n",
    "    --------\n",
    "    mce:float. Mean Cathegorical Entropy. \n",
    "    \"\"\"\n",
    "    entropies = []\n",
    "    mdd_coefficients=[]\n",
    "    \n",
    "    for i in  range(category_list.shape[0]):\n",
    "        quantile_entropy = dataset_quantile_entropy(category_list[i])\n",
    "        entropies.append(quantile_entropy)\n",
    "        target_category = category_list[i]\n",
    "        non_target_category = np.delete(category_list,i,axis = 0)\n",
    "        #print(f'shape {non_target_category.shape}')\n",
    "        phi,_relative_measures = mutual_density_divergence(target_category = target_category,category_list = non_target_category)\n",
    "        print(f'Relative Measures {_relative_measures}')\n",
    "        print(f'Coefficients {phi}')\n",
    "        mdd_coefficients.append(phi)\n",
    "    entropies = np.array(entropies)\n",
    "    mdd_coefficients = np.array(mdd_coefficients)    \n",
    "    mce = np.mean(100*np.log2(mdd_coefficients)+entropies)\n",
    "    return mce\n",
    "\n",
    "\n",
    "\n",
    "def category_finder(training_dataset,category_column):\n",
    "    \"\"\"\n",
    "    This function takes a pandas DataFrame training_dataset as \n",
    "    input and returns a set of pandas DataFrame each associated \n",
    "    to a specific category\n",
    "    \n",
    "    Parameters\n",
    "    ----------\n",
    "    training_dataset: Pandas DataFrame. DataFrame that contains the\n",
    "                      training dataset\n",
    "    category_columns: str. Name of the column that contains the \n",
    "    categories\n",
    "    \n",
    "    Returns: category_dict. Dictionary that contains the different\n",
    "            categories dataframes\n",
    "    \"\"\"\n",
    "    category_dict = {}\n",
    "    categories = training_dataset[category_column].unique()\n",
    "    #print(f'Unique Values: {categories}')\n",
    "    for i in range(categories.shape[0]):\n",
    "        #print(f'Categoria: {categories[i]}')\n",
    "        name = categories[i]\n",
    "        current_df = training_dataset.loc[training_dataset[category_column]==categories[i]].copy()\n",
    "        category_dict[name]= current_df\n",
    "    return category_dict\n",
    "\n",
    "def mean_mutual_density_divergence(dataset,representation_columns,category_column):\n",
    "    \"\"\"\n",
    "    this function computes the mean mutual density divergence.\n",
    "    \n",
    "    Parameters\n",
    "    ----------\n",
    "    dataset: pandas DataFrame. dataset that is going to be used for training the model (\n",
    "             all columns must be included)\n",
    "    representation_columns: list of str. Names of the columns that stand for the representation,\n",
    "                          i.e. the feature columns\n",
    "    category_column: str. Name of the column that contains the categories\n",
    "    \n",
    "    Return\n",
    "    ------\n",
    "    mean_phi: float. Mean of the phi values associated to the different mutual density divergence\n",
    "    \n",
    "    phis: list of float. List of phi values associated to the different mutual density divergence\n",
    "    \n",
    "    \"\"\"\n",
    "    \n",
    "    categories = category_finder(dataset,category_column)\n",
    "    categories_names = list(categories.keys())\n",
    "    phis = []\n",
    "    for i in range(len(categories_names)):\n",
    "        remaining_category_names = categories_names.copy()\n",
    "        target_category_name = categories_names[i]\n",
    "        remaining_category_names.remove(target_category_name)\n",
    "        #print(f'Target Category Name: {target_category_name}')\n",
    "        #print(f'Remaining Category Name: {remaining_category_names}')\n",
    "        #computing the divergence\n",
    "        target_X = categories[target_category_name][representation_columns].values\n",
    "        #print(f'This is target_X: { target_X}')\n",
    "        complementary_targets = [categories[name][representation_columns].values for name in remaining_category_names]\n",
    "        #print(f'These are complementary targets: {complementary_targets}')\n",
    "        \n",
    "        phi,rm = mutual_density_divergence(target_category=target_X, category_list=complementary_targets)\n",
    "        phis.append(phi)\n",
    "        #print(f'Mean phi:{np.mean(phis)}\\nList of phis: {phis}')\n",
    "        \n",
    "        del remaining_category_names\n",
    "    return np.mean(phis),phis\n",
    "\n",
    "def average_inner_distance(target_points, data):\n",
    "    \"\"\"\n",
    "    This function compute the average distance from a representation\n",
    "    of a set called data to a series of target points.\n",
    "    \n",
    "    Parameters\n",
    "    ----------\n",
    "    target_points: np.array. Array of target points. These points are \n",
    "                   the reference points for computing the average distance.\n",
    "    data: np.array. Array associated to the data points for a especific \n",
    "                    representation.\n",
    "                    \n",
    "    Return\n",
    "    ------\n",
    "    mean_dist: float. Mean distance to the different points\n",
    "    std_dist:  float. Standard deviation of the distances.\n",
    "    \"\"\"\n",
    "    distances_array = np.zeros(shape=(target_points.shape[0],data.shape[0],target_points.shape[1]))\n",
    "    for i in range(target_points.shape[0]):\n",
    "        distances_array[i]= target_points[i] - data\n",
    "    d = np.linalg.norm(distances_array,axis = 2)\n",
    "    m_d = np.min(d,axis = 1)\n",
    "    mean_dist = np.mean(m_d)\n",
    "    std_dist = np.std(m_d)\n",
    "    return mean_dist, std_dist\n",
    "    \n",
    "    \n",
    "def dataset_intersection_counter(target_reference_points, radius, target_dataset):\n",
    "    \"\"\"\n",
    "    This function counts the number of points of a target dataset inside the covering\n",
    "    defined by the balls of centers in target_reference_points (coming from a reference dataset)\n",
    "    with radius radius.\n",
    "    The idea is to detect if two given datasets the intersectionis void or not.\n",
    "    \n",
    "    Parameters\n",
    "    ----------\n",
    "    target_reference_points: np.array. Array of target points. These points come from the targe dataset of\n",
    "                   reference.\n",
    "    radius: float. Radius of the balls\n",
    "    target_dataset: np.array. Array of points associated to someother dataset whose intersection \n",
    "    with the reference dataset wants to be computed.\n",
    "    \n",
    "    Returns\n",
    "    -------\n",
    "    intersection_measure: float. This value is the number of target reference points that have points \n",
    "                          of target dataset inside a ball of center a target_point and radius radius.\n",
    "    \"\"\"\n",
    "    distances_array = np.zeros(shape=(target_reference_points.shape[0],target_dataset.shape[0],target_reference_points.shape[1]))\n",
    "    for i in range(target_reference_points.shape[0]):\n",
    "        distances_array[i]= target_reference_points[i] - target_dataset\n",
    "    d = np.linalg.norm(distances_array,axis = 2)\n",
    "    n_intersection_indexes = np.unique(np.where(d <= radius)[0]).shape[0]\n",
    "    intersection_measure = n_intersection_indexes/target_reference_points.shape[0]\n",
    "    return intersection_measure\n",
    "    "
   ]
  },
  {
   "cell_type": "code",
   "execution_count": 5,
   "id": "7d16d37f",
   "metadata": {},
   "outputs": [],
   "source": [
    "def average_inner_distance(target_points, data):\n",
    "    \"\"\"\n",
    "    This function compute the average distance from a representation\n",
    "    of a set called data to a series of target points.\n",
    "    \n",
    "    Parameters\n",
    "    ----------\n",
    "    target_points: np.array. Array of target points. These points are \n",
    "                   the reference points for computing the average distance.\n",
    "    data: np.array. Array associated to the data points for a especific \n",
    "                    representation.\n",
    "                    \n",
    "    Return\n",
    "    ------\n",
    "    mean_dist: float. Mean distance to the different points\n",
    "    std_dist:  float. Standard deviation of the distances.\n",
    "    \"\"\"\n",
    "    distances_array = np.zeros(shape=(target_points.shape[0],data.shape[0],target_points.shape[1]))\n",
    "    for i in range(target_points.shape[0]):\n",
    "        distances_array[i]= target_points[i] - data\n",
    "    d = np.linalg.norm(distances_array,axis = 2)\n",
    "    m_d = np.min(d,axis = 1)\n",
    "    mean_dist = np.mean(m_d)\n",
    "    std_dist = np.std(m_d)\n",
    "    return mean_dist, std_dist\n",
    "    \n",
    "    \n",
    "def dataset_intersection_counter(target_reference_points, radius, target_dataset):\n",
    "    \"\"\"\n",
    "    This function counts the number of points of a target dataset inside the covering\n",
    "    defined by the balls of centers in target_reference_points (coming from a reference dataset)\n",
    "    with radius radius.\n",
    "    The idea is to detect if two given datasets the intersectionis void or not.\n",
    "    \n",
    "    Parameters\n",
    "    ----------\n",
    "    target_reference_points: np.array. Array of target points. These points come from the targe dataset of\n",
    "                   reference.\n",
    "    radius: float. Radius of the balls\n",
    "    target_dataset: np.array. Array of points associated to someother dataset whose intersection \n",
    "    with the reference dataset wants to be computed.\n",
    "    \n",
    "    Returns\n",
    "    -------\n",
    "    intersection_measure: float. This value is the number of target reference points that have points \n",
    "                          of target dataset inside a ball of center a target_point and radius radius.\n",
    "    \"\"\"\n",
    "    distances_array = np.zeros(shape=(target_reference_points.shape[0],target_dataset.shape[0],target_reference_points.shape[1]))\n",
    "    for i in range(target_reference_points.shape[0]):\n",
    "        distances_array[i]= target_reference_points[i] - target_dataset\n",
    "    d = np.linalg.norm(distances_array,axis = 2)\n",
    "    n_intersection_indexes = np.unique(np.where(d <= radius)[0]).shape[0]\n",
    "    intersection_measure = n_intersection_indexes/target_reference_points.shape[0]\n",
    "    return intersection_measure\n",
    "\n",
    "\n",
    "def mutual_density_divergence_2(target_category, category_list):\n",
    "    \"\"\"\n",
    "    This function computes a coefficient associated to the measure of\n",
    "    the intersections of a measurable set with respect someother measurable sets \n",
    "    for a set of probability measures. This coefficient intends to provide insights \n",
    "    of the average 'size'of these intersections and, in that way, how distinguishable\n",
    "    is a set from others.\n",
    "    \n",
    "    Parameters\n",
    "    -----------\n",
    "    target_category: array. Dataset associated to the target category for which the coe-\n",
    "                     fficient will be computed.\n",
    "    category_list: list of arrays. This list must contain all datasets associated to the \n",
    "              different categories  in a classification problem.\n",
    "    mode: int. Used mean method. Default:0 Arithmetic mean. 1, geometric mean.\n",
    "    \n",
    "    Return\n",
    "    -------\n",
    "    phi: float. Coefficient associated to the target category.\n",
    "    \n",
    "    \"\"\"\n",
    "    cpr = 0.2#Control Points Rate\n",
    "    relative_measures = []\n",
    "    control_points = target_category[:int(cpr*target_category.shape[0])]\n",
    "    reference_data = target_category[int(cpr*target_category.shape[0]):]\n",
    "    mn,s = average_inner_distance(target_points = control_points, data = reference_data)\n",
    "    for category in category_list:\n",
    "        m = dataset_intersection_counter(target_reference_points = control_points, radius = mn+2*s, target_dataset=category)\n",
    "        relative_measures.append(m)\n",
    "    relative_measures = np.array(relative_measures)\n",
    "    phi = np.mean(np.log(1/(1-relative_measures)))\n",
    "    return phi, relative_measures\n",
    "\n",
    "def mean_mutual_density_divergence_2(dataset,representation_columns,category_column):\n",
    "    \"\"\"\n",
    "    this function computes the mean mutual density divergence.\n",
    "    \n",
    "    Parameters\n",
    "    ----------\n",
    "    dataset: pandas DataFrame. dataset that is going to be used for training the model (\n",
    "             all columns must be included)\n",
    "    representation_columns: list of str. Names of the columns that stand for the representation,\n",
    "                          i.e. the feature columns\n",
    "    category_column: str. Name of the column that contains the categories\n",
    "    \n",
    "    Return\n",
    "    ------\n",
    "    mean_phi: float. Mean of the phi values associated to the different mutual density divergence\n",
    "    \n",
    "    phis: list of float. List of phi values associated to the different mutual density divergence\n",
    "    \n",
    "    \"\"\"\n",
    "    \n",
    "    categories = category_finder(dataset,category_column)\n",
    "    categories_names = list(categories.keys())\n",
    "    phis = []\n",
    "    for i in range(len(categories_names)):\n",
    "        remaining_category_names = categories_names.copy()\n",
    "        target_category_name = categories_names[i]\n",
    "        remaining_category_names.remove(target_category_name)\n",
    "        #print(f'Target Category Name: {target_category_name}')\n",
    "        #print(f'Remaining Category Name: {remaining_category_names}')\n",
    "        #computing the divergence\n",
    "        target_X = categories[target_category_name][representation_columns].values\n",
    "        #print(f'This is target_X: { target_X}')\n",
    "        complementary_targets = [categories[name][representation_columns].values for name in remaining_category_names]\n",
    "        #print(f'These are complementary targets: {complementary_targets}')\n",
    "        \n",
    "        phi,rm = mutual_density_divergence_2(target_category=target_X, category_list=complementary_targets)\n",
    "        phis.append(phi)\n",
    "        print(f'Relative measures: {rm}')\n",
    "        #print(f'Mean phi:{np.mean(phis)}\\nList of phis: {phis}')\n",
    "        \n",
    "        del remaining_category_names\n",
    "    return np.mean(phis),phis\n",
    "    "
   ]
  },
  {
   "cell_type": "markdown",
   "id": "5ba665f4",
   "metadata": {},
   "source": [
    "### Parameters"
   ]
  },
  {
   "cell_type": "code",
   "execution_count": 6,
   "id": "8c46fa80",
   "metadata": {},
   "outputs": [],
   "source": [
    "p = Path('./datasets/cell_phone_train.csv')\n",
    "p_test = Path('./datasets/cell_phone_test.csv')\n",
    "scaler = MinMaxScaler()\n",
    "#columns = ['SepalLengthCm','SepalWidthCm','PetalLengthCm','PetalWidthCm']"
   ]
  },
  {
   "cell_type": "markdown",
   "id": "82b63025",
   "metadata": {},
   "source": [
    "### Control Dataset"
   ]
  },
  {
   "cell_type": "code",
   "execution_count": 7,
   "id": "d717c311",
   "metadata": {},
   "outputs": [
    {
     "name": "stdout",
     "output_type": "stream",
     "text": [
      "      battery_power  blue  clock_speed  dual_sim  fc  four_g  int_memory  \\\n",
      "1371            601     1          1.7         1   3       1           6   \n",
      "1861           1189     1          1.9         0   5       0           7   \n",
      "1044           1218     1          2.8         1   3       0          39   \n",
      "1701           1306     1          2.1         1   2       1          33   \n",
      "13              803     1          2.1         0   7       0          17   \n",
      "\n",
      "      m_dep  mobile_wt  n_cores  ...  px_height  px_width   ram  sc_h  sc_w  \\\n",
      "1371    0.8        169        4  ...        818      1827  2651    14     8   \n",
      "1861    0.5        164        2  ...         79       615   841    13    10   \n",
      "1044    0.8        150        7  ...       1122      1746  1667    10     0   \n",
      "1701    0.4        174        3  ...        867      1258  2521     6     5   \n",
      "13      1.0        198        4  ...        344      1440  2680     7     1   \n",
      "\n",
      "      talk_time  three_g  touch_screen  wifi  price_range  \n",
      "1371          9        1             0     1            2  \n",
      "1861         11        0             1     0            0  \n",
      "1044         12        0             0     0            1  \n",
      "1701         16        1             0     0            2  \n",
      "13            4        1             0     1            2  \n",
      "\n",
      "[5 rows x 21 columns]\n",
      "Data Shape: (2000, 21)\n"
     ]
    }
   ],
   "source": [
    "data = pd.read_csv(p).sample(frac=1)\n",
    "test_data = pd.read_csv(p_test)\n",
    "print(data.head())\n",
    "columns = list(data.columns)[:-1]\n",
    "target_column = list(data.columns)[-1]\n",
    "print(f'Data Shape: {data.shape}')"
   ]
  },
  {
   "cell_type": "code",
   "execution_count": 8,
   "id": "d22b93cc",
   "metadata": {},
   "outputs": [
    {
     "data": {
      "text/plain": [
       "2    500\n",
       "0    500\n",
       "1    500\n",
       "3    500\n",
       "Name: price_range, dtype: int64"
      ]
     },
     "execution_count": 8,
     "metadata": {},
     "output_type": "execute_result"
    }
   ],
   "source": [
    "data[target_column].value_counts()"
   ]
  },
  {
   "cell_type": "code",
   "execution_count": 9,
   "id": "7135f272",
   "metadata": {},
   "outputs": [],
   "source": [
    "\n",
    "scaled_data = data.copy()\n",
    "scaled_data[columns] = scaler.fit_transform(scaled_data[columns])\n",
    "X = scaled_data[columns]\n",
    "Y = scaled_data[target_column]\n",
    "t_r = 0.7\n",
    "\n",
    "X_training = X.iloc[:int(t_r*X.shape[0])]\n",
    "X_test = X.iloc[int(t_r*X.shape[0]):]\n",
    "Y_training = Y.iloc[:int(t_r*Y.shape[0])]\n",
    "Y_test = Y.iloc[int(t_r*Y.shape[0]):]"
   ]
  },
  {
   "cell_type": "code",
   "execution_count": 10,
   "id": "9517541c",
   "metadata": {},
   "outputs": [
    {
     "name": "stdout",
     "output_type": "stream",
     "text": [
      "Data:       battery_power  blue  clock_speed  dual_sim  fc  four_g  int_memory  \\\n",
      "1371            601     1          1.7         1   3       1           6   \n",
      "1861           1189     1          1.9         0   5       0           7   \n",
      "1044           1218     1          2.8         1   3       0          39   \n",
      "1701           1306     1          2.1         1   2       1          33   \n",
      "13              803     1          2.1         0   7       0          17   \n",
      "\n",
      "      m_dep  mobile_wt  n_cores  ...  px_height  px_width   ram  sc_h  sc_w  \\\n",
      "1371    0.8        169        4  ...        818      1827  2651    14     8   \n",
      "1861    0.5        164        2  ...         79       615   841    13    10   \n",
      "1044    0.8        150        7  ...       1122      1746  1667    10     0   \n",
      "1701    0.4        174        3  ...        867      1258  2521     6     5   \n",
      "13      1.0        198        4  ...        344      1440  2680     7     1   \n",
      "\n",
      "      talk_time  three_g  touch_screen  wifi  price_range  \n",
      "1371          9        1             0     1            2  \n",
      "1861         11        0             1     0            0  \n",
      "1044         12        0             0     0            1  \n",
      "1701         16        1             0     0            2  \n",
      "13            4        1             0     1            2  \n",
      "\n",
      "[5 rows x 21 columns]\n",
      "X:      battery_power  blue  clock_speed  dual_sim        fc  four_g  \\\n",
      "1371       0.066800   1.0         0.48       1.0  0.157895     1.0   \n",
      "1861       0.459586   1.0         0.56       0.0  0.263158     0.0   \n",
      "1044       0.478958   1.0         0.92       1.0  0.157895     0.0   \n",
      "1701       0.537742   1.0         0.64       1.0  0.105263     1.0   \n",
      "13         0.201737   1.0         0.64       0.0  0.368421     0.0   \n",
      "\n",
      "      int_memory     m_dep  mobile_wt   n_cores    pc  px_height  px_width  \\\n",
      "1371    0.064516  0.777778   0.741667  0.428571  0.55   0.417347  0.885848   \n",
      "1861    0.080645  0.444444   0.700000  0.142857  1.00   0.040306  0.076769   \n",
      "1044    0.596774  0.777778   0.583333  0.857143  0.70   0.572449  0.831776   \n",
      "1701    0.500000  0.333333   0.783333  0.285714  0.45   0.442347  0.506008   \n",
      "13      0.241935  1.000000   0.983333  0.428571  0.55   0.175510  0.627503   \n",
      "\n",
      "           ram      sc_h      sc_w  talk_time  three_g  touch_screen  wifi  \n",
      "1371  0.640032  0.642857  0.444444   0.388889      1.0           0.0   1.0  \n",
      "1861  0.156334  0.571429  0.555556   0.500000      0.0           1.0   0.0  \n",
      "1044  0.377071  0.357143  0.000000   0.555556      0.0           0.0   0.0  \n",
      "1701  0.605291  0.071429  0.277778   0.777778      1.0           0.0   0.0  \n",
      "13    0.647782  0.142857  0.055556   0.111111      1.0           0.0   1.0  \n"
     ]
    }
   ],
   "source": [
    "print(f'Data: {data.head()}\\nX:{X.head()}')"
   ]
  },
  {
   "cell_type": "markdown",
   "id": "33ad7f8b",
   "metadata": {},
   "source": [
    "### Models"
   ]
  },
  {
   "cell_type": "code",
   "execution_count": 11,
   "id": "4cde04aa",
   "metadata": {},
   "outputs": [],
   "source": [
    "mlp = MLPClassifier(hidden_layer_sizes=(32,64,64,16),random_state=1, max_iter=200)\n",
    "gbc = GradientBoostingClassifier(n_estimators=150, learning_rate=1.0,max_depth=1, random_state=0)\n"
   ]
  },
  {
   "cell_type": "markdown",
   "id": "da130493",
   "metadata": {},
   "source": [
    "### Control Dataset information analysis. Old intersection measure"
   ]
  },
  {
   "cell_type": "code",
   "execution_count": 12,
   "id": "dfb31287",
   "metadata": {},
   "outputs": [
    {
     "name": "stdout",
     "output_type": "stream",
     "text": [
      "---------------------------------\n",
      "---------------------------------\n",
      "Mean phi: inf\n",
      "---------------------------------\n",
      "---------------------------------\n",
      "Phi list: [1.5723564524624833, 2.3047837085134995, 1.9411172033861268, inf]\n"
     ]
    },
    {
     "name": "stderr",
     "output_type": "stream",
     "text": [
      "/tmp/ipykernel_6492/634881167.py:204: RuntimeWarning: divide by zero encountered in true_divide\n",
      "  phi = np.mean(np.log(1/(1-relative_measures)))\n"
     ]
    }
   ],
   "source": [
    "mphi,phis = mean_mutual_density_divergence(data.iloc[:int(t_r*data.shape[0])],columns,target_column)\n",
    "print('---------------------------------\\n---------------------------------')\n",
    "print(f'Mean phi: {mphi}')\n",
    "print('---------------------------------\\n---------------------------------')\n",
    "print(f'Phi list: {phis}')\n"
   ]
  },
  {
   "cell_type": "markdown",
   "id": "95691ac4",
   "metadata": {},
   "source": [
    "### Control Dataset information analysis. New intersection measure"
   ]
  },
  {
   "cell_type": "code",
   "execution_count": 13,
   "id": "f261799a",
   "metadata": {},
   "outputs": [
    {
     "name": "stdout",
     "output_type": "stream",
     "text": [
      "Relative measures: [0.         0.26086957 0.2173913 ]\n",
      "Relative measures: [0.         0.16216216 0.        ]\n",
      "Relative measures: [0.34285714 0.14285714 0.        ]\n",
      "Relative measures: [0.27272727 0.         0.        ]\n",
      "---------------------------------\n",
      "---------------------------------\n",
      "Mean phi: 0.13473269121425446\n",
      "---------------------------------\n",
      "---------------------------------\n",
      "Phi list: [0.1824677766353062, 0.05897690271969275, 0.19133484179584073, 0.10615124370617819]\n"
     ]
    }
   ],
   "source": [
    "mphi,phis = mean_mutual_density_divergence_2(data.iloc[:int(t_r*data.shape[0])],columns,target_column)\n",
    "print('---------------------------------\\n---------------------------------')\n",
    "print(f'Mean phi: {mphi}')\n",
    "print('---------------------------------\\n---------------------------------')\n",
    "print(f'Phi list: {phis}')"
   ]
  },
  {
   "cell_type": "markdown",
   "id": "3118c640",
   "metadata": {},
   "source": [
    "### Model Training on Control Dataset\n",
    "#### Multi-layer Perceptron"
   ]
  },
  {
   "cell_type": "code",
   "execution_count": 14,
   "id": "313aba33",
   "metadata": {},
   "outputs": [
    {
     "name": "stderr",
     "output_type": "stream",
     "text": [
      "/home/luis_munoz/miniforge3/envs/tensorflow/lib/python3.9/site-packages/sklearn/neural_network/_multilayer_perceptron.py:692: ConvergenceWarning: Stochastic Optimizer: Maximum iterations (200) reached and the optimization hasn't converged yet.\n",
      "  warnings.warn(\n"
     ]
    },
    {
     "data": {
      "text/plain": [
       "MLPClassifier(hidden_layer_sizes=(32, 64, 64, 16), random_state=1)"
      ]
     },
     "execution_count": 14,
     "metadata": {},
     "output_type": "execute_result"
    }
   ],
   "source": [
    "mlp.fit(X_training,Y_training)"
   ]
  },
  {
   "cell_type": "markdown",
   "id": "03640103",
   "metadata": {},
   "source": [
    "#### Model Ensemble"
   ]
  },
  {
   "cell_type": "code",
   "execution_count": 15,
   "id": "c1c3b83e",
   "metadata": {},
   "outputs": [
    {
     "data": {
      "text/plain": [
       "GradientBoostingClassifier(learning_rate=1.0, max_depth=1, n_estimators=150,\n",
       "                           random_state=0)"
      ]
     },
     "execution_count": 15,
     "metadata": {},
     "output_type": "execute_result"
    }
   ],
   "source": [
    "gbc.fit(X_training,Y_training)\n"
   ]
  },
  {
   "cell_type": "markdown",
   "id": "f3aa0eaf",
   "metadata": {},
   "source": [
    "#### Scoring"
   ]
  },
  {
   "cell_type": "code",
   "execution_count": 16,
   "id": "a9c75036",
   "metadata": {},
   "outputs": [
    {
     "name": "stdout",
     "output_type": "stream",
     "text": [
      "Mean phi: 0.13473269121425446\n",
      "Phi list: [0.1824677766353062, 0.05897690271969275, 0.19133484179584073, 0.10615124370617819]\n",
      "Scoring MLP: 0.9133333333333333\n",
      "Scoring GBC: 0.91\n"
     ]
    }
   ],
   "source": [
    "print(f'Mean phi: {mphi}')\n",
    "print(f'Phi list: {phis}')\n",
    "print(f'Scoring MLP: {mlp.score(X_test,Y_test)}')\n",
    "print(f'Scoring GBC: {gbc.score(X_test,Y_test)}')"
   ]
  },
  {
   "cell_type": "markdown",
   "id": "f7ec5997",
   "metadata": {},
   "source": [
    "#### Confusion Matrix"
   ]
  },
  {
   "cell_type": "code",
   "execution_count": 24,
   "id": "17d9921f",
   "metadata": {},
   "outputs": [
    {
     "name": "stdout",
     "output_type": "stream",
     "text": [
      "Confusion Matrix MLP:\n",
      "[[0.92592593 0.07407407 0.         0.        ]\n",
      " [0.03472222 0.89583333 0.06944444 0.        ]\n",
      " [0.         0.04666667 0.89333333 0.06      ]\n",
      " [0.         0.         0.06432749 0.93567251]]\n"
     ]
    }
   ],
   "source": [
    "print(f'Confusion Matrix MLP:\\n{confusion_matrix(mlp.predict(X_test),Y_test,normalize = \"true\")}')\n"
   ]
  },
  {
   "cell_type": "markdown",
   "id": "88505822",
   "metadata": {},
   "source": [
    "### Modified dataset\n",
    "Random shuffle"
   ]
  },
  {
   "cell_type": "code",
   "execution_count": 16,
   "id": "90e60de5",
   "metadata": {},
   "outputs": [
    {
     "name": "stdout",
     "output_type": "stream",
     "text": [
      "      battery_power  blue  clock_speed  dual_sim  fc  four_g  int_memory  \\\n",
      "485            1277     0          3.0         0   0       1          41   \n",
      "989             559     1          0.5         0  10       0          11   \n",
      "157            1224     0          0.5         0  16       1           6   \n",
      "1088           1655     1          0.5         1   6       1           4   \n",
      "1298           1089     0          1.4         1  10       0           2   \n",
      "\n",
      "      m_dep  mobile_wt  n_cores  pc  px_height  px_width   ram  sc_h  sc_w  \\\n",
      "485     0.3        200        4   3        902      1090   429     9     4   \n",
      "989     0.4         82        5  14        541       823  2019    10     4   \n",
      "157     0.4        109        6  18        747       826   506    10     0   \n",
      "1088    0.1        105        3  12        626      1348   673    10     3   \n",
      "1298    0.1        153        7  20        211      1409  2620     7     5   \n",
      "\n",
      "      talk_time  three_g  touch_screen  wifi  \n",
      "485          14        1             1     1  \n",
      "989          16        1             1     1  \n",
      "157          11        1             1     1  \n",
      "1088         12        1             0     0  \n",
      "1298         13        1             0     0  \n"
     ]
    }
   ],
   "source": [
    "modified_data = data[columns].copy().sample(frac = 1)\n",
    "print(modified_data.head())"
   ]
  },
  {
   "cell_type": "code",
   "execution_count": 18,
   "id": "3be3fd21",
   "metadata": {},
   "outputs": [
    {
     "name": "stdout",
     "output_type": "stream",
     "text": [
      "      battery_power  blue  clock_speed  dual_sim  fc  four_g  int_memory  \\\n",
      "485            1277     0          3.0         0   0       1          41   \n",
      "989             559     1          0.5         0  10       0          11   \n",
      "157            1224     0          0.5         0  16       1           6   \n",
      "1088           1655     1          0.5         1   6       1           4   \n",
      "1298           1089     0          1.4         1  10       0           2   \n",
      "\n",
      "      m_dep  mobile_wt  n_cores  ...  px_height  px_width   ram  sc_h  sc_w  \\\n",
      "485     0.3        200        4  ...        902      1090   429     9     4   \n",
      "989     0.4         82        5  ...        541       823  2019    10     4   \n",
      "157     0.4        109        6  ...        747       826   506    10     0   \n",
      "1088    0.1        105        3  ...        626      1348   673    10     3   \n",
      "1298    0.1        153        7  ...        211      1409  2620     7     5   \n",
      "\n",
      "      talk_time  three_g  touch_screen  wifi  price_range  \n",
      "485          14        1             1     1            3  \n",
      "989          16        1             1     1            1  \n",
      "157          11        1             1     1            3  \n",
      "1088         12        1             0     0            0  \n",
      "1298         13        1             0     0            2  \n",
      "\n",
      "[5 rows x 21 columns]\n"
     ]
    }
   ],
   "source": [
    "modified_data[target_column]= data[target_column].values.copy()\n",
    "print(modified_data.head())"
   ]
  },
  {
   "cell_type": "code",
   "execution_count": 20,
   "id": "a58fecdf",
   "metadata": {},
   "outputs": [],
   "source": [
    "modified_scaled_data = modified_data.copy()\n",
    "modified_scaled_data[columns] = scaler.fit_transform(modified_scaled_data[columns])\n",
    "modified_X = modified_scaled_data[columns]\n",
    "modified_Y = modified_scaled_data[target_column]\n",
    "t_r = 0.7\n",
    "\n",
    "modified_X_training = modified_X.iloc[:int(t_r*modified_X.shape[0])]\n",
    "modified_X_test = modified_X.iloc[int(t_r*modified_X.shape[0]):]\n",
    "modified_Y_training = modified_Y.iloc[:int(t_r*modified_Y.shape[0])]\n",
    "modified_Y_test = modified_Y.iloc[int(t_r*modified_Y.shape[0]):]"
   ]
  },
  {
   "cell_type": "markdown",
   "id": "f987e77d",
   "metadata": {},
   "source": [
    "### Models for modified dataset"
   ]
  },
  {
   "cell_type": "code",
   "execution_count": 21,
   "id": "f92dd651",
   "metadata": {},
   "outputs": [],
   "source": [
    "mmlp = MLPClassifier(hidden_layer_sizes=(8,16,8,),random_state=1, max_iter=200)\n",
    "mgbc = GradientBoostingClassifier(n_estimators=150, learning_rate=1.0,max_depth=1, random_state=0)"
   ]
  },
  {
   "cell_type": "markdown",
   "id": "b23b9f92",
   "metadata": {},
   "source": [
    "### Modified Dataset Information Analysis. Old intersection measure."
   ]
  },
  {
   "cell_type": "code",
   "execution_count": 23,
   "id": "f461337d",
   "metadata": {},
   "outputs": [
    {
     "name": "stdout",
     "output_type": "stream",
     "text": [
      "---------------------------------\n",
      "---------------------------------\n",
      "Mean phi: inf\n",
      "---------------------------------\n",
      "---------------------------------\n",
      "Phi list: [inf, inf, inf, inf]\n"
     ]
    },
    {
     "name": "stderr",
     "output_type": "stream",
     "text": [
      "/tmp/ipykernel_7403/634881167.py:204: RuntimeWarning: divide by zero encountered in true_divide\n",
      "  phi = np.mean(np.log(1/(1-relative_measures)))\n"
     ]
    }
   ],
   "source": [
    "mphi,phis = mean_mutual_density_divergence(modified_data.iloc[:int(t_r*modified_data.shape[0])],columns,target_column)\n",
    "print('---------------------------------\\n---------------------------------')\n",
    "print(f'Mean phi: {mphi}')\n",
    "print('---------------------------------\\n---------------------------------')\n",
    "print(f'Phi list: {phis}')"
   ]
  },
  {
   "cell_type": "markdown",
   "id": "a139f414",
   "metadata": {},
   "source": [
    "### Modified Dataset Information Analysis. New intersection measure."
   ]
  },
  {
   "cell_type": "code",
   "execution_count": 24,
   "id": "7d48931e",
   "metadata": {},
   "outputs": [
    {
     "name": "stdout",
     "output_type": "stream",
     "text": [
      "Relative measures: [0.95833333 0.95833333 0.98611111]\n",
      "Relative measures: [1.         0.95714286 0.95714286]\n",
      "Relative measures: [0.97058824 1.         1.        ]\n",
      "Relative measures: [0.95588235 0.95588235 1.        ]\n",
      "---------------------------------\n",
      "---------------------------------\n",
      "Mean phi: inf\n",
      "---------------------------------\n",
      "---------------------------------\n",
      "Phi list: [3.544257926570651, inf, inf, inf]\n"
     ]
    },
    {
     "name": "stderr",
     "output_type": "stream",
     "text": [
      "/tmp/ipykernel_7403/1185035397.py:87: RuntimeWarning: divide by zero encountered in true_divide\n",
      "  phi = np.mean(np.log(1/(1-relative_measures)))\n"
     ]
    }
   ],
   "source": [
    "mphi,phis = mean_mutual_density_divergence_2(modified_data.iloc[:int(t_r*modified_data.shape[0])],columns,target_column)\n",
    "print('---------------------------------\\n---------------------------------')\n",
    "print(f'Mean phi: {mphi}')\n",
    "print('---------------------------------\\n---------------------------------')\n",
    "print(f'Phi list: {phis}')"
   ]
  },
  {
   "cell_type": "markdown",
   "id": "c987dea8",
   "metadata": {},
   "source": [
    "### Model Training on modified dataset\n",
    "#### Multi-layer Perceptron"
   ]
  },
  {
   "cell_type": "code",
   "execution_count": 25,
   "id": "8a01b93a",
   "metadata": {},
   "outputs": [
    {
     "name": "stderr",
     "output_type": "stream",
     "text": [
      "/home/luis_munoz/miniforge3/envs/tensorflow/lib/python3.9/site-packages/sklearn/neural_network/_multilayer_perceptron.py:692: ConvergenceWarning: Stochastic Optimizer: Maximum iterations (200) reached and the optimization hasn't converged yet.\n",
      "  warnings.warn(\n"
     ]
    },
    {
     "data": {
      "text/plain": [
       "MLPClassifier(hidden_layer_sizes=(8, 16, 8), random_state=1)"
      ]
     },
     "execution_count": 25,
     "metadata": {},
     "output_type": "execute_result"
    }
   ],
   "source": [
    "mmlp.fit(modified_X_training,modified_Y_training)"
   ]
  },
  {
   "cell_type": "markdown",
   "id": "b4b77cdd",
   "metadata": {},
   "source": [
    "#### Model Ensemble"
   ]
  },
  {
   "cell_type": "code",
   "execution_count": 26,
   "id": "8d137a6c",
   "metadata": {},
   "outputs": [
    {
     "data": {
      "text/plain": [
       "GradientBoostingClassifier(learning_rate=1.0, max_depth=1, n_estimators=150,\n",
       "                           random_state=0)"
      ]
     },
     "execution_count": 26,
     "metadata": {},
     "output_type": "execute_result"
    }
   ],
   "source": [
    "mgbc.fit(modified_X_training,modified_Y_training)"
   ]
  },
  {
   "cell_type": "markdown",
   "id": "20553a91",
   "metadata": {},
   "source": [
    "#### Scoring"
   ]
  },
  {
   "cell_type": "code",
   "execution_count": 27,
   "id": "45b173d2",
   "metadata": {},
   "outputs": [
    {
     "name": "stdout",
     "output_type": "stream",
     "text": [
      "Mean phi: inf\n",
      "Phi list: [3.544257926570651, inf, inf, inf]\n",
      "Scoring MLP: 0.185\n",
      "Scoring GBC: 0.25333333333333335\n"
     ]
    }
   ],
   "source": [
    "print(f'Mean phi: {mphi}')\n",
    "print(f'Phi list: {phis}')\n",
    "print(f'Scoring MLP: {mmlp.score(X_test,Y_test)}')\n",
    "print(f'Scoring GBC: {mgbc.score(X_test,Y_test)}')\n"
   ]
  },
  {
   "cell_type": "markdown",
   "id": "e53e879b",
   "metadata": {},
   "source": [
    "### Modification on dataset\n",
    "Common Standardization"
   ]
  },
  {
   "cell_type": "code",
   "execution_count": 28,
   "id": "aa662400",
   "metadata": {},
   "outputs": [],
   "source": [
    "# split dataset & computer centers of mass\n",
    "categories = category_finder(training_dataset = data,category_column=target_column)\n",
    "st_DataFrames = []\n",
    "for category_name in categories.keys():\n",
    "    st = StandardScaler()\n",
    "    category_array = categories[category_name]\n",
    "    category_array[columns] = st.fit_transform(category_array[columns])\n",
    "    st_DataFrames.append(category_array)\n",
    "#print(st_DataFrames)\n",
    "st_modified_data = pd.concat(st_DataFrames).sample(frac=1)\n",
    "#print(f'Standard Mofied Data:\\n {st_modified_data}')\n",
    "# Normalize"
   ]
  },
  {
   "cell_type": "code",
   "execution_count": 29,
   "id": "f2bf3764",
   "metadata": {},
   "outputs": [],
   "source": [
    "st_modified_X = st_modified_data[columns]\n",
    "st_modified_Y = st_modified_data[target_column]\n",
    "t_r = 0.7\n",
    "\n",
    "st_modified_X_training = st_modified_X.iloc[:int(t_r*st_modified_X.shape[0])]\n",
    "st_modified_X_test = st_modified_X.iloc[int(t_r*st_modified_X.shape[0]):]\n",
    "st_modified_Y_training = st_modified_Y.iloc[:int(t_r*st_modified_Y.shape[0])]\n",
    "st_modified_Y_test = st_modified_Y.iloc[int(t_r*st_modified_Y.shape[0]):]"
   ]
  },
  {
   "cell_type": "markdown",
   "id": "1e726ac6",
   "metadata": {},
   "source": [
    "### Models for modified dataset"
   ]
  },
  {
   "cell_type": "code",
   "execution_count": 30,
   "id": "dff7c9e3",
   "metadata": {},
   "outputs": [],
   "source": [
    "mmlp = MLPClassifier(hidden_layer_sizes=(8,16,8,),random_state=1, max_iter=200)\n",
    "mgbc = GradientBoostingClassifier(n_estimators=150, learning_rate=1.0,max_depth=1, random_state=0)"
   ]
  },
  {
   "cell_type": "markdown",
   "id": "159ad0c5",
   "metadata": {},
   "source": [
    "### Modified Dataset Information Analysis. Old intersection measure."
   ]
  },
  {
   "cell_type": "code",
   "execution_count": 33,
   "id": "0d4aaf1b",
   "metadata": {},
   "outputs": [
    {
     "name": "stdout",
     "output_type": "stream",
     "text": [
      "---------------------------------\n",
      "---------------------------------\n",
      "Mean phi: inf\n",
      "---------------------------------\n",
      "---------------------------------\n",
      "Phi list: [inf, inf, inf, 5.883322388488293]\n"
     ]
    },
    {
     "name": "stderr",
     "output_type": "stream",
     "text": [
      "/tmp/ipykernel_7403/634881167.py:204: RuntimeWarning: divide by zero encountered in true_divide\n",
      "  phi = np.mean(np.log(1/(1-relative_measures)))\n"
     ]
    }
   ],
   "source": [
    "mphi,phis = mean_mutual_density_divergence(st_modified_data.iloc[:int(t_r*st_modified_data.shape[0])],columns,target_column)\n",
    "print('---------------------------------\\n---------------------------------')\n",
    "print(f'Mean phi: {mphi}')\n",
    "print('---------------------------------\\n---------------------------------')\n",
    "print(f'Phi list: {phis}')"
   ]
  },
  {
   "cell_type": "markdown",
   "id": "de384ca8",
   "metadata": {},
   "source": [
    "### Modified Data InformationAnalysis. New intersection measure."
   ]
  },
  {
   "cell_type": "code",
   "execution_count": 34,
   "id": "52ed263a",
   "metadata": {},
   "outputs": [
    {
     "name": "stdout",
     "output_type": "stream",
     "text": [
      "Relative measures: [1.         0.98550725 0.98550725]\n",
      "Relative measures: [1.         1.         0.98550725]\n",
      "Relative measures: [1.         0.97142857 0.98571429]\n",
      "Relative measures: [1.         0.98591549 0.98591549]\n",
      "---------------------------------\n",
      "---------------------------------\n",
      "Mean phi: inf\n",
      "---------------------------------\n",
      "---------------------------------\n",
      "Phi list: [inf, inf, inf, inf]\n"
     ]
    },
    {
     "name": "stderr",
     "output_type": "stream",
     "text": [
      "/tmp/ipykernel_7403/1185035397.py:87: RuntimeWarning: divide by zero encountered in true_divide\n",
      "  phi = np.mean(np.log(1/(1-relative_measures)))\n"
     ]
    }
   ],
   "source": [
    "mphi,phis = mean_mutual_density_divergence_2(st_modified_data.iloc[:int(t_r*st_modified_data.shape[0])],columns,target_column)\n",
    "print('---------------------------------\\n---------------------------------')\n",
    "print(f'Mean phi: {mphi}')\n",
    "print('---------------------------------\\n---------------------------------')\n",
    "print(f'Phi list: {phis}')"
   ]
  },
  {
   "cell_type": "markdown",
   "id": "e762e7d5",
   "metadata": {},
   "source": [
    "### Model Training on modified dataset\n",
    "#### Multi-layer Perceptron"
   ]
  },
  {
   "cell_type": "code",
   "execution_count": 35,
   "id": "46468b8a",
   "metadata": {},
   "outputs": [
    {
     "name": "stderr",
     "output_type": "stream",
     "text": [
      "/home/luis_munoz/miniforge3/envs/tensorflow/lib/python3.9/site-packages/sklearn/neural_network/_multilayer_perceptron.py:692: ConvergenceWarning: Stochastic Optimizer: Maximum iterations (200) reached and the optimization hasn't converged yet.\n",
      "  warnings.warn(\n"
     ]
    },
    {
     "data": {
      "text/plain": [
       "MLPClassifier(hidden_layer_sizes=(8, 16, 8), random_state=1)"
      ]
     },
     "execution_count": 35,
     "metadata": {},
     "output_type": "execute_result"
    }
   ],
   "source": [
    "mmlp.fit(st_modified_X_training,st_modified_Y_training)"
   ]
  },
  {
   "cell_type": "markdown",
   "id": "91835416",
   "metadata": {},
   "source": [
    "#### Model Ensemble"
   ]
  },
  {
   "cell_type": "code",
   "execution_count": 36,
   "id": "5673b4a6",
   "metadata": {},
   "outputs": [
    {
     "data": {
      "text/plain": [
       "GradientBoostingClassifier(learning_rate=1.0, max_depth=1, n_estimators=150,\n",
       "                           random_state=0)"
      ]
     },
     "execution_count": 36,
     "metadata": {},
     "output_type": "execute_result"
    }
   ],
   "source": [
    "mgbc.fit(st_modified_X_training,st_modified_Y_training)"
   ]
  },
  {
   "cell_type": "markdown",
   "id": "343eee8d",
   "metadata": {},
   "source": [
    "#### Scoring"
   ]
  },
  {
   "cell_type": "code",
   "execution_count": 37,
   "id": "61a1a96d",
   "metadata": {},
   "outputs": [
    {
     "name": "stdout",
     "output_type": "stream",
     "text": [
      "Mean phi: inf\n",
      "Phi list: [inf, inf, inf, inf]\n",
      "Scoring MLP: 0.24166666666666667\n",
      "Scoring GBC: 0.265\n"
     ]
    }
   ],
   "source": [
    "print(f'Mean phi: {mphi}')\n",
    "print(f'Phi list: {phis}')\n",
    "print(f'Scoring MLP: {mmlp.score(X_test,Y_test)}')\n",
    "print(f'Scoring GBC: {mgbc.score(X_test,Y_test)}')"
   ]
  },
  {
   "cell_type": "code",
   "execution_count": null,
   "id": "ce5e82f3",
   "metadata": {},
   "outputs": [],
   "source": [
    "#--------------------------------------"
   ]
  },
  {
   "cell_type": "code",
   "execution_count": 33,
   "id": "40cb6dcb",
   "metadata": {},
   "outputs": [
    {
     "name": "stdout",
     "output_type": "stream",
     "text": [
      "m:\n",
      "0.018109575866149606\n",
      "s:\n",
      "0.010541992572202586\n",
      "Intersection measure: 0.98\n"
     ]
    },
    {
     "data": {
      "text/plain": [
       "<matplotlib.collections.PathCollection at 0x7f6482af1160>"
      ]
     },
     "execution_count": 33,
     "metadata": {},
     "output_type": "execute_result"
    },
    {
     "data": {
      "image/png": "[encoded data removed]",
      "text/plain": [
       "<Figure size 864x720 with 1 Axes>"
      ]
     },
     "metadata": {
      "needs_background": "light"
     },
     "output_type": "display_data"
    }
   ],
   "source": [
    "dim = 2\n",
    "control_rate = 0.05\n",
    "reference_set = np.random.random(size = (1000,dim))\n",
    "control_points = np.random.random(size = (int(control_rate*reference_set.shape[0]),dim))\n",
    "\n",
    "k = 0\n",
    "test_set = np.random.random(size = (1000,dim))+k\n",
    "\n",
    "\n",
    "\n",
    "m, s = average_inner_distance(target_points = control_points, data = reference_set)\n",
    "print(f'm:\\n{m}\\ns:\\n{s}')\n",
    "\n",
    "i_m = dataset_intersection_counter(target_reference_points = control_points, radius = m+2*s, target_dataset =  test_set)\n",
    "print(f'Intersection measure: {i_m}')\n",
    "\n",
    "f = plt.figure(figsize = (12,10))\n",
    "a = f.add_subplot(111)\n",
    "a.scatter(reference_set[:,0],reference_set[:,1],color = 'blue',label='Reference Set')\n",
    "a.scatter(control_points[:,0],control_points[:,1],color = 'red',label='Control Points')\n",
    "a.scatter(test_set[:,0],test_set[:,1],color = 'orange',label='Test Set')"
   ]
  },
  {
   "cell_type": "code",
   "execution_count": null,
   "id": "0caacbf3",
   "metadata": {},
   "outputs": [],
   "source": []
  },
  {
   "cell_type": "code",
   "execution_count": null,
   "id": "28360bb2",
   "metadata": {},
   "outputs": [],
   "source": []
  }
 ],
 "metadata": {
  "kernelspec": {
   "display_name": "Python 3 (ipykernel)",
   "language": "python",
   "name": "python3"
  },
  "language_info": {
   "codemirror_mode": {
    "name": "ipython",
    "version": 3
   },
   "file_extension": ".py",
   "mimetype": "text/x-python",
   "name": "python",
   "nbconvert_exporter": "python",
   "pygments_lexer": "ipython3",
   "version": "3.9.9"
  }
 },
 "nbformat": 4,
 "nbformat_minor": 5
}
